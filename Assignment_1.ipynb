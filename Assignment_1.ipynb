{
 "cells": [
  {
   "cell_type": "code",
   "execution_count": 70,
   "id": "a59d78d1",
   "metadata": {},
   "outputs": [
    {
     "name": "stdout",
     "output_type": "stream",
     "text": [
      "Enter hours spent on coding exercise in Week 1: 4\n",
      "Enter hours spent on CMC paper reading in Week 1: 5\n",
      "Enter hours spent on multimedia design in Week 1: 2.5\n",
      "Enter hours spent on coding exercise in Week 2: 8\n",
      "Enter hours spent on CMC paper reading in Week 2: 4\n",
      "Enter hours spent on multimedia design in Week 2: 3\n",
      "Enter hours spent on coding exercise in Week 3: 6\n",
      "Enter hours spent on CMC paper reading in Week 3: 5.5\n",
      "Enter hours spent on multimedia design in Week 3: 4\n",
      "Enter hours spent on coding exercise in Week 4: 4.5\n",
      "Enter hours spent on CMC paper reading in Week 4: 5\n",
      "Enter hours spent on multimedia design in Week 4: 3.5\n",
      "[{'Week': 'Week 1', 'Coding Exercise': '4', 'CMC Paper Reading': '5', 'Multimedia Design': '2.5', 'Total Hours': 11.5}, {'Week': 'Week 2', 'Coding Exercise': '8', 'CMC Paper Reading': '4', 'Multimedia Design': '3', 'Total Hours': 15.0}, {'Week': 'Week 3', 'Coding Exercise': '6', 'CMC Paper Reading': '5.5', 'Multimedia Design': '4', 'Total Hours': 15.5}, {'Week': 'Week 4', 'Coding Exercise': '4.5', 'CMC Paper Reading': '5', 'Multimedia Design': '3.5', 'Total Hours': 13.0}]\n"
     ]
    },
    {
     "data": {
      "text/html": [
       "<div>\n",
       "<style scoped>\n",
       "    .dataframe tbody tr th:only-of-type {\n",
       "        vertical-align: middle;\n",
       "    }\n",
       "\n",
       "    .dataframe tbody tr th {\n",
       "        vertical-align: top;\n",
       "    }\n",
       "\n",
       "    .dataframe thead th {\n",
       "        text-align: right;\n",
       "    }\n",
       "</style>\n",
       "<table border=\"1\" class=\"dataframe\">\n",
       "  <thead>\n",
       "    <tr style=\"text-align: right;\">\n",
       "      <th></th>\n",
       "      <th>Week</th>\n",
       "      <th>Coding Exercise</th>\n",
       "      <th>CMC Paper Reading</th>\n",
       "      <th>Multimedia Design</th>\n",
       "      <th>Total Hours</th>\n",
       "    </tr>\n",
       "  </thead>\n",
       "  <tbody>\n",
       "    <tr>\n",
       "      <th>0</th>\n",
       "      <td>Week 1</td>\n",
       "      <td>4</td>\n",
       "      <td>5</td>\n",
       "      <td>2.5</td>\n",
       "      <td>11.5</td>\n",
       "    </tr>\n",
       "    <tr>\n",
       "      <th>1</th>\n",
       "      <td>Week 2</td>\n",
       "      <td>8</td>\n",
       "      <td>4</td>\n",
       "      <td>3</td>\n",
       "      <td>15.0</td>\n",
       "    </tr>\n",
       "    <tr>\n",
       "      <th>2</th>\n",
       "      <td>Week 3</td>\n",
       "      <td>6</td>\n",
       "      <td>5.5</td>\n",
       "      <td>4</td>\n",
       "      <td>15.5</td>\n",
       "    </tr>\n",
       "    <tr>\n",
       "      <th>3</th>\n",
       "      <td>Week 4</td>\n",
       "      <td>4.5</td>\n",
       "      <td>5</td>\n",
       "      <td>3.5</td>\n",
       "      <td>13.0</td>\n",
       "    </tr>\n",
       "  </tbody>\n",
       "</table>\n",
       "</div>"
      ],
      "text/plain": [
       "     Week Coding Exercise CMC Paper Reading Multimedia Design  Total Hours\n",
       "0  Week 1               4                 5               2.5         11.5\n",
       "1  Week 2               8                 4                 3         15.0\n",
       "2  Week 3               6               5.5                 4         15.5\n",
       "3  Week 4             4.5                 5               3.5         13.0"
      ]
     },
     "execution_count": 70,
     "metadata": {},
     "output_type": "execute_result"
    }
   ],
   "source": [
    "from mod_for_assignment1 import compute_total_per_week\n",
    "import pandas as pd\n",
    "total_hrs = 0\n",
    "weekly_learning = []\n",
    "weekly_total = []\n",
    "week_number = ['Week 1','Week 2','Week 3','Week 4']\n",
    "for i in week_number:\n",
    "    coding_hrs = input(\"Enter hours spent on coding exercise in \"+i+\": \")\n",
    "    reading_hrs = input(\"Enter hours spent on CMC paper reading in \"+i+\": \")\n",
    "    design_hrs = input(\"Enter hours spent on multimedia design in \"+i+\": \")\n",
    "    weekly_total = compute_total_per_week(coding_hrs,reading_hrs,design_hrs,total_hrs)\n",
    "    weekly_learning.append({'Week':i,'Coding Exercise':coding_hrs,'CMC Paper Reading':reading_hrs,'Multimedia Design':design_hrs,'Total Hours':weekly_total})   \n",
    "print(weekly_learning)\n",
    "df = pd.DataFrame(weekly_learning)\n",
    "df.to_csv('learning_tracking.csv',mode='w',index=False)\n",
    "df"
   ]
  },
  {
   "cell_type": "code",
   "execution_count": 74,
   "id": "7cc020f7",
   "metadata": {},
   "outputs": [
    {
     "name": "stdout",
     "output_type": "stream",
     "text": [
      "Weekly learning hours: \n",
      " [['Week 1', 4.0, 5.0, 2.5, 11.5], ['Week 2', 8.0, 4.0, 3.0, 15.0], ['Week 3', 6.0, 5.5, 4.0, 15.5], ['Week 4', 4.5, 5.0, 3.5, 13.0]]\n",
      "time spent on coding exercise: [4.0, 8.0, 6.0, 4.5]\n",
      "time spent on CMC paper reading: [5.0, 4.0, 5.5, 5.0]\n",
      "time spent on multimedia design: [2.5, 3.0, 4.0, 3.5]\n",
      "weekly average hours: [3.83, 5.0, 5.17, 4.33]\n"
     ]
    },
    {
     "data": {
      "image/png": "[encoded data removed]",
      "text/plain": [
       "<Figure size 432x288 with 1 Axes>"
      ]
     },
     "metadata": {
      "needs_background": "light"
     },
     "output_type": "display_data"
    }
   ],
   "source": [
    "from mod_for_assignment1 import compute_task_avg\n",
    "import pandas as pd\n",
    "from matplotlib import pyplot as plt\n",
    "df = pd.read_csv('learning_tracking.csv')\n",
    "tracking_list = df.values.tolist()\n",
    "print(\"Weekly learning hours:\",\"\\n\",tracking_list)\n",
    "week_number = []\n",
    "coding_hrs = []\n",
    "reading_hrs = []\n",
    "design_hrs = []\n",
    "weekly_total = []\n",
    "for i in tracking_list:\n",
    "    week_number.append(i[0])\n",
    "    coding_hrs.append(i[1])\n",
    "    reading_hrs.append(i[2])\n",
    "    design_hrs.append(i[3])\n",
    "    weekly_total.append(i[4])\n",
    "print('time spent on coding exercise:',coding_hrs)\n",
    "print('time spent on CMC paper reading:',reading_hrs)\n",
    "print('time spent on multimedia design:',design_hrs)\n",
    "average = []\n",
    "index = 0\n",
    "for n in week_number:\n",
    "    avg_hrs = compute_task_avg(weekly_total[index],avg_hrs)\n",
    "    average.append(avg_hrs)\n",
    "    index = index + 1\n",
    "print(\"weekly average hours:\",average)\n",
    "plt.plot(week_number, coding_hrs, color = 'red',marker = 'o')\n",
    "plt.plot(week_number, reading_hrs, color = 'green',marker = 'o')\n",
    "plt.plot(week_number, design_hrs, color = 'blue',marker = 'o')\n",
    "plt.plot(week_number, average, color = 'purple',linestyle = '--',marker = 's')\n",
    "plt.legend(['coding exercise','CMC paper reading','multimedia design','average time'])\n",
    "plt.xlabel('Week of the Month')\n",
    "plt.ylabel('Hours')\n",
    "plt.title('Monthly Learning Hours for Different Tasks')\n",
    "plt.show()"
   ]
  }
 ],
 "metadata": {
  "kernelspec": {
   "display_name": "Python 3",
   "language": "python",
   "name": "python3"
  },
  "language_info": {
   "codemirror_mode": {
    "name": "ipython",
    "version": 3
   },
   "file_extension": ".py",
   "mimetype": "text/x-python",
   "name": "python",
   "nbconvert_exporter": "python",
   "pygments_lexer": "ipython3",
   "version": "3.8.8"
  }
 },
 "nbformat": 4,
 "nbformat_minor": 5
}
